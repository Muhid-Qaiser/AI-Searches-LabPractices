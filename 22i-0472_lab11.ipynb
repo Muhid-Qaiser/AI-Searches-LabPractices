{
 "cells": [
  {
   "cell_type": "code",
   "execution_count": null,
   "metadata": {},
   "outputs": [],
   "source": []
  },
  {
   "cell_type": "code",
   "execution_count": 27,
   "metadata": {},
   "outputs": [
    {
     "name": "stdout",
     "output_type": "stream",
     "text": [
      "{1: 'A', 2: 'B', 3: 'C', 4: 'A'}\n",
      "Solution:\n",
      "1 : A\n",
      "2 : B\n",
      "3 : C\n",
      "4 : A\n"
     ]
    }
   ],
   "source": [
    "\n",
    "def is_consistent(variable, value, assignment, city_capacity, allowed_cities):\n",
    "    package = variable  \n",
    "    city = value  \n",
    "    \n",
    "    if package in assignment:\n",
    "        return False  \n",
    "    \n",
    "    if city in assignment.values() and list(assignment.values()).count(city) >= city_capacity[city]:\n",
    "        return False  \n",
    "    \n",
    "    if package in allowed_cities:\n",
    "        if city not in allowed_cities[package]:\n",
    "            return False  \n",
    "    \n",
    "    return True\n",
    "\n",
    "\n",
    "def backtrack(assignment, packages, cities, city_capacity, allowed_cities, domains):\n",
    "    if len(assignment) == len(packages):\n",
    "        return assignment\n",
    "\n",
    "    unassigned_variable = None\n",
    "    for variable in packages:\n",
    "        if variable not in assignment:\n",
    "            unassigned_variable = variable\n",
    "            break\n",
    "\n",
    "    for value in domains[unassigned_variable]:\n",
    "        if is_consistent(unassigned_variable, value, assignment, city_capacity, allowed_cities):\n",
    "            assignment[unassigned_variable] = value\n",
    "            result = backtrack(assignment, packages, cities, city_capacity, allowed_cities, domains)\n",
    "            if result is not None:\n",
    "                return result\n",
    "            del assignment[unassigned_variable]\n",
    "\n",
    "    return None\n",
    "\n",
    "def csp_solver():\n",
    "    # Input data\n",
    "    packages = [1, 2, 3, 4]\n",
    "    cities = ['A', 'B', 'C']\n",
    "    city_capacity = {'A': 2, 'B': 3, 'C': 1}\n",
    "    allowed_cities = {1: ['A', 'B'], 2: ['B', 'C'], 3: ['A', 'C'], 4: ['A']}\n",
    "    domains = {package: cities for package in packages}\n",
    "    assignment = {}\n",
    "\n",
    "    solution = backtrack(assignment, packages, cities, city_capacity, allowed_cities, domains)\n",
    "\n",
    "    return solution\n",
    "\n",
    "if __name__ == \"__main__\":\n",
    "    solution = csp_solver()\n",
    "    if solution is not None:\n",
    "        print(solution)\n",
    "        print(\"Solution:\")\n",
    "        for variable, value in solution.items():\n",
    "            print(variable, \":\", value)\n",
    "    else:\n",
    "        print(\"No solution exists.\")\n"
   ]
  },
  {
   "cell_type": "code",
   "execution_count": null,
   "metadata": {},
   "outputs": [],
   "source": []
  },
  {
   "cell_type": "code",
   "execution_count": null,
   "metadata": {},
   "outputs": [],
   "source": []
  }
 ],
 "metadata": {
  "kernelspec": {
   "display_name": "base",
   "language": "python",
   "name": "python3"
  },
  "language_info": {
   "codemirror_mode": {
    "name": "ipython",
    "version": 3
   },
   "file_extension": ".py",
   "mimetype": "text/x-python",
   "name": "python",
   "nbconvert_exporter": "python",
   "pygments_lexer": "ipython3",
   "version": "3.11.4"
  }
 },
 "nbformat": 4,
 "nbformat_minor": 2
}
