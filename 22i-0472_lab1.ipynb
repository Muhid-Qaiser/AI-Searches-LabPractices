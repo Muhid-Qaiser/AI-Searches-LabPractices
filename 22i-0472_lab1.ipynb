{
 "cells": [
  {
   "cell_type": "markdown",
   "metadata": {},
   "source": [
    "## Task a"
   ]
  },
  {
   "cell_type": "code",
   "execution_count": 2,
   "metadata": {},
   "outputs": [
    {
     "name": "stdout",
     "output_type": "stream",
     "text": [
      "radius: 18.849\n"
     ]
    }
   ],
   "source": [
    "r = int(input(\"Enter radius: \"))\n",
    "print(\"radius:\", 2 * 3.1415 * r )"
   ]
  },
  {
   "cell_type": "markdown",
   "metadata": {},
   "source": [
    "## Task 1 b"
   ]
  },
  {
   "cell_type": "code",
   "execution_count": 1,
   "metadata": {},
   "outputs": [
    {
     "name": "stdout",
     "output_type": "stream",
     "text": [
      "\n",
      "Percentage: 0.8\n",
      "Not Allowed to sit in exam\n"
     ]
    }
   ],
   "source": [
    "def isAllow(total, attended):\n",
    "    return attended / total\n",
    "\n",
    "total = int(input(\"Enter Total Classes: \"))\n",
    "attended = int(input(\"Enter Attended Classes: \"))\n",
    "\n",
    "percentage = isAllow(total, attended)\n",
    "\n",
    "print(f\"\\nPercentage: {percentage}\")\n",
    "\n",
    "if percentage > 0.85:\n",
    "    print(\"Allowed to sit in exam\")\n",
    "else:\n",
    "    print(\"Not Allowed to sit in exam\")"
   ]
  },
  {
   "cell_type": "code",
   "execution_count": null,
   "metadata": {},
   "outputs": [],
   "source": []
  },
  {
   "cell_type": "markdown",
   "metadata": {},
   "source": [
    "## Task 2"
   ]
  },
  {
   "cell_type": "code",
   "execution_count": 7,
   "metadata": {},
   "outputs": [
    {
     "name": "stdout",
     "output_type": "stream",
     "text": [
      "[112.0, 113.5, 189.5, 789.0, 230.2]\n",
      "['bedroom', 112.0, 'hallway', 113.5, 'bathroom', 189.5, 'kitchen', 789.0, 'living room', 230.2]\n"
     ]
    }
   ],
   "source": [
    "area = [\"bedroom\", 112.0, \"hallway\", 113.5, \"bathroom\", 189.5, \"kitchen\",  789.0, \"living room\", 230.2]\n",
    "\n",
    "float_area = [x for x in area if type(x) == float]\n",
    "string_area = [x for x in area if type(x) == str]\n",
    "print(float_area[:])\n",
    "print(area[:])"
   ]
  },
  {
   "cell_type": "markdown",
   "metadata": {},
   "source": [
    "## Task 3"
   ]
  },
  {
   "cell_type": "code",
   "execution_count": 8,
   "metadata": {},
   "outputs": [
    {
     "data": {
      "text/plain": [
       "['bedroom',\n",
       " 112.0,\n",
       " 'hallway',\n",
       " 113.5,\n",
       " 'bathroom',\n",
       " 189.5,\n",
       " 'kitchen',\n",
       " 789.0,\n",
       " 'living room',\n",
       " 230.2,\n",
       " ['pool', 112.7, 117.9],\n",
       " ['grg', 112.0]]"
      ]
     },
     "execution_count": 8,
     "metadata": {},
     "output_type": "execute_result"
    }
   ],
   "source": [
    "area.append(['pool', 112.7, 117.9])\n",
    "area.append(['grg', 112.0])\n",
    "area"
   ]
  },
  {
   "cell_type": "code",
   "execution_count": 6,
   "metadata": {},
   "outputs": [
    {
     "name": "stdout",
     "output_type": "stream",
     "text": [
      "[1, 2, 3, '4', 5, 6]\n"
     ]
    }
   ],
   "source": [
    "def deep_flatten(lst):\n",
    "    result = []\n",
    "    for i in lst:\n",
    "        if type(i) == list:\n",
    "            result.extend(deep_flatten(i))\n",
    "        else:\n",
    "            result.append(i)\n",
    "    return result\n",
    "\n",
    "l = [1, [2], [[3], ['4'], 5], 6]\n",
    "print(deep_flatten(l))"
   ]
  },
  {
   "cell_type": "code",
   "execution_count": null,
   "metadata": {},
   "outputs": [],
   "source": []
  },
  {
   "cell_type": "markdown",
   "metadata": {},
   "source": [
    "## Task 4"
   ]
  },
  {
   "cell_type": "code",
   "execution_count": 5,
   "metadata": {},
   "outputs": [
    {
     "name": "stdout",
     "output_type": "stream",
     "text": [
      "[[1, 'Jean Castro', 'V'], [2, 'LulaPowell', 'V'], [3, 'Brian Howell', 'VI'], [4, 'Lynne Foster', 'VI'], [5, 'Zachary Simon', 'VII']]\n",
      "[[1, 'Jean Castro'], [2, 'LulaPowell'], [3, 'Brian Howell'], [4, 'Lynne Foster'], [5, 'Zachary Simon']]\n",
      "[['Jean Castro', 'V'], ['LulaPowell', 'V'], ['Brian Howell', 'VI'], ['Lynne Foster', 'VI'], ['Zachary Simon', 'VII']]\n"
     ]
    }
   ],
   "source": [
    "l_to_d = [{\"student_id\": 1, \"name\": \"Jean Castro\", \"class\": \"V\"},\n",
    "           {\"student_id\": 2, \"name\": \"LulaPowell\", \"class\": \"V\"}, {\"student_id\": 3, \"name\": \"Brian Howell\", \"class\": \"VI\"},\n",
    "           {\"student_id\": 4, \"name\": \"Lynne Foster\", \"class\": \"VI\"}, {\"student_id\": 5, \"name\":\"Zachary Simon\", \"class\": \"VII\"}]\n",
    "\n",
    "ans = []\n",
    "\n",
    "for dic in l_to_d:\n",
    "    temp = [ dic[\"student_id\"], dic['name'], dic['class'] ]\n",
    "    ans.append(temp)\n",
    "\n",
    "print(ans)\n",
    "ans2 = [ x[:-1] for x in ans ]\n",
    "ans3 = [ x[1:] for x in ans ]\n",
    "print(ans2)\n",
    "print(ans3)"
   ]
  },
  {
   "cell_type": "markdown",
   "metadata": {},
   "source": [
    "## Task 5"
   ]
  },
  {
   "cell_type": "code",
   "execution_count": 52,
   "metadata": {},
   "outputs": [
    {
     "data": {
      "text/plain": [
       "[0, 1, 4]"
      ]
     },
     "execution_count": 52,
     "metadata": {},
     "output_type": "execute_result"
    }
   ],
   "source": [
    "def fun1(l):\n",
    "\n",
    "    result = []\n",
    "\n",
    "    for index1, i in enumerate(l):\n",
    "        temp = []\n",
    "        flag = True\n",
    "\n",
    "        for index2, j in enumerate(l):\n",
    "            if index1 == index2:\n",
    "                continue\n",
    "            else:\n",
    "                temp.append(j)\n",
    "        \n",
    "        for index2, j in enumerate(temp):\n",
    "            count = 0\n",
    "            \n",
    "            for element in j:\n",
    "                if element in i:\n",
    "                    count += 1\n",
    "\n",
    "            if count == len(i):\n",
    "                flag = False\n",
    "\n",
    "        if flag:\n",
    "            result.append(index1)\n",
    "        \n",
    "    return sorted(result)\n",
    "\n",
    "\n",
    "Fav_food_items = [[\"pizza\",\"burger\",\"hotdogs\"] , [\"pasta\",\"hotdogs\"],[\"pizza\"],[\"burger\",\"hotdogs\"],[\"rice\" ,\"pasta\"] ,[\"pasta\"]]\n",
    "fun1(Fav_food_items)"
   ]
  },
  {
   "cell_type": "markdown",
   "metadata": {},
   "source": [
    "## Task 6"
   ]
  },
  {
   "cell_type": "code",
   "execution_count": 8,
   "metadata": {},
   "outputs": [],
   "source": [
    "import numpy as np"
   ]
  },
  {
   "cell_type": "code",
   "execution_count": 9,
   "metadata": {},
   "outputs": [
    {
     "data": {
      "text/plain": [
       "[8, 2, 3, 2, 6, 8, 7, 6, 9, 1]"
      ]
     },
     "execution_count": 9,
     "metadata": {},
     "output_type": "execute_result"
    }
   ],
   "source": [
    "list((np.random.randint(1,10,10)))"
   ]
  },
  {
   "cell_type": "code",
   "execution_count": 23,
   "metadata": {},
   "outputs": [
    {
     "name": "stdout",
     "output_type": "stream",
     "text": [
      "[1, 2, 7, 1, 6, 1, 2, 7, 5, 9]\n",
      "[1, 1, 1, 2, 2, 6, 5, 7, 7, 9]\n"
     ]
    }
   ],
   "source": [
    "# bubble sort\n",
    "\n",
    "def swap(x,y):\n",
    "    return y, x\n",
    "\n",
    "l = list((np.random.randint(1,10,10)))\n",
    "print(l)\n",
    "\n",
    "for index1, i in enumerate( l ):\n",
    "    for j in range( index1 ):\n",
    "\n",
    "        if l[j] > l[j+1]:\n",
    "            x = l[j]\n",
    "            l[j] = l[j+1]\n",
    "            l[j+1] = x\n",
    "print(l)"
   ]
  },
  {
   "cell_type": "markdown",
   "metadata": {},
   "source": [
    "## Task 7"
   ]
  },
  {
   "cell_type": "code",
   "execution_count": 79,
   "metadata": {},
   "outputs": [
    {
     "name": "stdout",
     "output_type": "stream",
     "text": [
      "None\n"
     ]
    }
   ],
   "source": [
    "# Write a NumPy program to create an array of 10 zeros, 10 ones, 10 fives.\n",
    "x = list(np.zeros(10, dtype=int)).extend(list(np.ones(5, dtype=int)))\n",
    "# x.extend(list(np.ones(10, dtype=int)))\n",
    "print(x)"
   ]
  },
  {
   "cell_type": "code",
   "execution_count": 80,
   "metadata": {},
   "outputs": [
    {
     "data": {
      "text/plain": [
       "array([0., 0., 0., 0., 0., 0., 0., 0., 0., 0., 1., 1., 1., 1., 1., 1., 1.,\n",
       "       1., 1., 1., 5., 5., 5., 5., 5., 5., 5., 5., 5., 5.])"
      ]
     },
     "execution_count": 80,
     "metadata": {},
     "output_type": "execute_result"
    }
   ],
   "source": [
    "array = np.concatenate((np.zeros(10), np.ones(10), np.full(10, 5)))\n",
    "array"
   ]
  },
  {
   "cell_type": "markdown",
   "metadata": {},
   "source": [
    "## Task 8"
   ]
  },
  {
   "cell_type": "code",
   "execution_count": 81,
   "metadata": {},
   "outputs": [
    {
     "data": {
      "text/plain": [
       "array([[17, 10, 14, 21],\n",
       "       [20, 11, 10, 18],\n",
       "       [16, 12, 11, 21]])"
      ]
     },
     "execution_count": 81,
     "metadata": {},
     "output_type": "execute_result"
    }
   ],
   "source": [
    "np.random.randint(10, 22, (3,4))"
   ]
  },
  {
   "cell_type": "code",
   "execution_count": 3,
   "metadata": {},
   "outputs": [
    {
     "name": "stdout",
     "output_type": "stream",
     "text": [
      "Name: Fast \n",
      "Location: Islamabad \n",
      "Student count: 70 \n",
      " Facility count: 49 \n",
      "\n"
     ]
    }
   ],
   "source": [
    "class Campus:\n",
    "    def __init__(self, n, l, sc, fc):\n",
    "        # name, location, studentCount and facultyCount\n",
    "        self.name = n\n",
    "        self.location = l\n",
    "        self.studentCount = sc\n",
    "        self.facultyCount = fc\n",
    "\n",
    "    def warning(self):\n",
    "        if self.studentCount >= self.facultyCount * 5:\n",
    "            return \"Warning: Student count more than Faculty count!\"\n",
    "        else:\n",
    "            return \"No Warning.\"\n",
    "        \n",
    "    def display(self):\n",
    "        print(f\"Name: {self.name} \\nLocation: {self.location} \\nStudent count: {self.studentCount} \\n Facility count: {self.facultyCount} \\n\")\n",
    "\n",
    "c = Campus(\"Fast\", \"Islamabad\", 70, 49)\n",
    "c.warning()\n",
    "c.display()\n"
   ]
  },
  {
   "cell_type": "code",
   "execution_count": null,
   "metadata": {},
   "outputs": [],
   "source": []
  }
 ],
 "metadata": {
  "kernelspec": {
   "display_name": "base",
   "language": "python",
   "name": "python3"
  },
  "language_info": {
   "codemirror_mode": {
    "name": "ipython",
    "version": 3
   },
   "file_extension": ".py",
   "mimetype": "text/x-python",
   "name": "python",
   "nbconvert_exporter": "python",
   "pygments_lexer": "ipython3",
   "version": "3.11.4"
  }
 },
 "nbformat": 4,
 "nbformat_minor": 2
}
