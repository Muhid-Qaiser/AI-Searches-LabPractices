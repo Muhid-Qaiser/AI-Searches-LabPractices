{
 "cells": [
  {
   "cell_type": "code",
   "execution_count": 93,
   "metadata": {},
   "outputs": [
    {
     "data": {
      "text/plain": [
       "(['feature4', 'feature3', 'feature2', 'feature5'], 900)"
      ]
     },
     "execution_count": 93,
     "metadata": {},
     "output_type": "execute_result"
    }
   ],
   "source": [
    "import random\n",
    "\n",
    "\n",
    "class hillClimbing:\n",
    "\n",
    "    def __init__(self, s):\n",
    "        self.states = s\n",
    "        self.n = len(self.states)\n",
    "\n",
    "    def hillClimbing_search2(self, total):\n",
    "        \n",
    "        keys = []\n",
    "        budget = 0\n",
    "        iteration = 0\n",
    "\n",
    "        for key, val in self.states.items():\n",
    "            keys.append(key)\n",
    "\n",
    "        curr_state = random.sample(keys, 1)[0]\n",
    "        solutions = [curr_state]\n",
    "        budget +=  self.states[curr_state]['cost']\n",
    "\n",
    "        while budget < total and iteration < total:\n",
    "            neighbor = random.sample(keys, 1)[0]\n",
    "\n",
    "            if self.states[neighbor]['rating'] > self.states[curr_state]['rating']:\n",
    "                curr_state = neighbor\n",
    "                solutions.append(curr_state)\n",
    "\n",
    "                budget += self.states[curr_state]['cost']\n",
    "            # budget += self.states[neighbor]['cost']\n",
    "            \n",
    "            iteration += 1\n",
    "                    \n",
    "\n",
    "        return solutions, budget\n",
    "\n",
    "\n",
    "\n",
    "states = {\n",
    "    \"feature1\": {\"cost\": 100, \"rating\": 3.5},\n",
    "    \"feature2\": {\"cost\": 200, \"rating\": 4.2},\n",
    "    \"feature3\": {\"cost\": 150, \"rating\": 4.0},\n",
    "    \"feature4\": {\"cost\": 300, \"rating\": 3.8},\n",
    "    \"feature5\": {\"cost\": 250, \"rating\": 4.5},\n",
    "    \"feature6\": {\"cost\": 350, \"rating\": 3.6}\n",
    "}\n",
    "\n",
    "\n",
    "\n",
    "hc = hillClimbing(states)\n",
    "best = hc.hillClimbing_search2(1000)\n",
    "best\n",
    "\n",
    "\n"
   ]
  },
  {
   "cell_type": "code",
   "execution_count": null,
   "metadata": {},
   "outputs": [],
   "source": []
  }
 ],
 "metadata": {
  "kernelspec": {
   "display_name": "base",
   "language": "python",
   "name": "python3"
  },
  "language_info": {
   "codemirror_mode": {
    "name": "ipython",
    "version": 3
   },
   "file_extension": ".py",
   "mimetype": "text/x-python",
   "name": "python",
   "nbconvert_exporter": "python",
   "pygments_lexer": "ipython3",
   "version": "3.11.4"
  }
 },
 "nbformat": 4,
 "nbformat_minor": 2
}
